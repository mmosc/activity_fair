{
 "cells": [
  {
   "cell_type": "markdown",
   "id": "29d94967-6a88-4cde-8002-f7d8fe1f5587",
   "metadata": {},
   "source": [
    "# Data Preparation\n",
    "We put ourselves in a scenario in which the dataset is in implicit form. If explicit with ratings, we binarize it with a threshold of 3. If implicit for music, we binarize it with a threshold of 2 listening events. \n",
    "\n",
    "## Pipeline\n",
    " - Binarize interactions --> Implicit dataset\n",
    " - Define the user *classes*: \n",
    "   - *faithful* users ($f\\%$, with $f$ fixed)\n",
    "   - *harmful* users ($h\\%$, with $h$ variable), with recsyslearn\n",
    " - Train-val-test split: [60%, 20%, 20%] at the user level, with RecBole"
   ]
  },
  {
   "cell_type": "markdown",
   "id": "06b9c384-5a56-4993-9f27-f5423deb56b2",
   "metadata": {},
   "source": [
    "python run_hyper.py --config_files=bpr_config.yaml --params_file=bpr_params.yaml --output_file=./bpr_out.yaml --tool=Hyperopt"
   ]
  },
  {
   "cell_type": "code",
   "execution_count": 1,
   "id": "b823267c-b89e-4d74-be73-973748bb01d9",
   "metadata": {},
   "outputs": [],
   "source": [
    "import pandas as pd\n",
    "from tqdm import tqdm\n",
    "import os\n",
    "import numpy as np\n",
    "from recsyslearn.dataset.segmentations import InteractionSegmentation\n",
    "from recsyslearn.dataset.segmentations import ActivitySegmentation\n",
    "from recsyslearn.dataset.segmentations import PopularityPercentage"
   ]
  },
  {
   "cell_type": "code",
   "execution_count": 2,
   "id": "b34a6322-b4bd-4bf8-8891-b217835389e5",
   "metadata": {},
   "outputs": [],
   "source": [
    "def map_series_to_int(\n",
    "    series: pd.Series,\n",
    "    path_for_dict=None,\n",
    ") -> pd.Series:\n",
    "    \n",
    "    import pickle\n",
    "    int_to_ml_dict = {id_: ml for id_, ml in enumerate(series.unique())}\n",
    "    ml_to_int_dict = {ml: id_ for id_, ml in int_to_ml_dict.items()}\n",
    "    if path_for_dict:\n",
    "        with open(path_for_dict, 'wb') as f:\n",
    "            pickle.dump(ml_to_int_dict, f)\n",
    "    return series.replace(ml_to_int_dict)"
   ]
  },
  {
   "cell_type": "code",
   "execution_count": 3,
   "id": "37366355-92a0-48d7-bb53-9478b5c38c1f",
   "metadata": {},
   "outputs": [],
   "source": [
    "BASE_FOLDER = '/home/marta/jku/activity_fair/'\n",
    "\n",
    "DATASET = 'ml-100k'\n",
    "# DATASET = 'amazon_digital_music'\n",
    "# DATASET = 'lastfm'\n",
    "\n",
    "FULL_DATASETS_FOLDER = BASE_FOLDER + f'datasets/full_datasets/{DATASET}/'\n",
    "\n",
    "FULL_INTERACTION_FILE = FULL_DATASETS_FOLDER + f'{DATASET}.inter'"
   ]
  },
  {
   "cell_type": "code",
   "execution_count": 4,
   "id": "cc1f70c7-b5a1-4a49-9f70-656c98349bc6",
   "metadata": {},
   "outputs": [],
   "source": [
    "full_dataset = pd.read_csv(FULL_INTERACTION_FILE, sep='\\t')"
   ]
  },
  {
   "cell_type": "code",
   "execution_count": 5,
   "id": "cb64c3c1-ebbd-4e76-ab2a-019016802f3f",
   "metadata": {},
   "outputs": [
    {
     "name": "stdout",
     "output_type": "stream",
     "text": [
      "<class 'pandas.core.frame.DataFrame'>\n",
      "RangeIndex: 100000 entries, 0 to 99999\n",
      "Data columns (total 4 columns):\n",
      " #   Column           Non-Null Count   Dtype\n",
      "---  ------           --------------   -----\n",
      " 0   user_id:token    100000 non-null  int64\n",
      " 1   item_id:token    100000 non-null  int64\n",
      " 2   rating:float     100000 non-null  int64\n",
      " 3   timestamp:float  100000 non-null  int64\n",
      "dtypes: int64(4)\n",
      "memory usage: 3.1 MB\n"
     ]
    }
   ],
   "source": [
    "full_dataset.info()"
   ]
  },
  {
   "cell_type": "code",
   "execution_count": 6,
   "id": "c080a95d-ebcd-432b-b2ce-4aa2da85d4df",
   "metadata": {},
   "outputs": [
    {
     "data": {
      "text/plain": [
       "943"
      ]
     },
     "execution_count": 6,
     "metadata": {},
     "output_type": "execute_result"
    }
   ],
   "source": [
    "full_dataset['user_id:token'].nunique()"
   ]
  },
  {
   "cell_type": "code",
   "execution_count": 7,
   "id": "bcd216ae-3b6a-4858-b56a-98a561527c78",
   "metadata": {},
   "outputs": [
    {
     "data": {
      "text/plain": [
       "20"
      ]
     },
     "execution_count": 7,
     "metadata": {},
     "output_type": "execute_result"
    }
   ],
   "source": [
    "full_dataset.groupby('user_id:token').count().values.min()"
   ]
  },
  {
   "cell_type": "code",
   "execution_count": 8,
   "id": "bbdb45ec-0839-40ab-80c0-b07a84589ec8",
   "metadata": {},
   "outputs": [],
   "source": [
    "if DATASET=='lastfm':\n",
    "    threshold = 1\n",
    "    print(full_dataset['weight:float'].values.min(), full_dataset['weight:float'].values.max())\n",
    "    full_dataset = full_dataset[['user_id:token', 'artist_id:token', 'weight:float']]\n",
    "    full_dataset.columns = ['user_id:token', 'item_id:token', 'rating:float']\n",
    "    \n",
    "else: \n",
    "    threshold = 2"
   ]
  },
  {
   "cell_type": "code",
   "execution_count": 9,
   "id": "27203ec2-8145-4c83-b1b7-0fb4f1233406",
   "metadata": {},
   "outputs": [
    {
     "data": {
      "text/html": [
       "<div>\n",
       "<style scoped>\n",
       "    .dataframe tbody tr th:only-of-type {\n",
       "        vertical-align: middle;\n",
       "    }\n",
       "\n",
       "    .dataframe tbody tr th {\n",
       "        vertical-align: top;\n",
       "    }\n",
       "\n",
       "    .dataframe thead th {\n",
       "        text-align: right;\n",
       "    }\n",
       "</style>\n",
       "<table border=\"1\" class=\"dataframe\">\n",
       "  <thead>\n",
       "    <tr style=\"text-align: right;\">\n",
       "      <th></th>\n",
       "      <th>user_id:token</th>\n",
       "      <th>item_id:token</th>\n",
       "      <th>rating:float</th>\n",
       "      <th>timestamp:float</th>\n",
       "    </tr>\n",
       "  </thead>\n",
       "  <tbody>\n",
       "    <tr>\n",
       "      <th>0</th>\n",
       "      <td>196</td>\n",
       "      <td>242</td>\n",
       "      <td>3</td>\n",
       "      <td>881250949</td>\n",
       "    </tr>\n",
       "    <tr>\n",
       "      <th>1</th>\n",
       "      <td>186</td>\n",
       "      <td>302</td>\n",
       "      <td>3</td>\n",
       "      <td>891717742</td>\n",
       "    </tr>\n",
       "    <tr>\n",
       "      <th>2</th>\n",
       "      <td>22</td>\n",
       "      <td>377</td>\n",
       "      <td>1</td>\n",
       "      <td>878887116</td>\n",
       "    </tr>\n",
       "    <tr>\n",
       "      <th>3</th>\n",
       "      <td>244</td>\n",
       "      <td>51</td>\n",
       "      <td>2</td>\n",
       "      <td>880606923</td>\n",
       "    </tr>\n",
       "    <tr>\n",
       "      <th>4</th>\n",
       "      <td>166</td>\n",
       "      <td>346</td>\n",
       "      <td>1</td>\n",
       "      <td>886397596</td>\n",
       "    </tr>\n",
       "    <tr>\n",
       "      <th>...</th>\n",
       "      <td>...</td>\n",
       "      <td>...</td>\n",
       "      <td>...</td>\n",
       "      <td>...</td>\n",
       "    </tr>\n",
       "    <tr>\n",
       "      <th>99995</th>\n",
       "      <td>880</td>\n",
       "      <td>476</td>\n",
       "      <td>3</td>\n",
       "      <td>880175444</td>\n",
       "    </tr>\n",
       "    <tr>\n",
       "      <th>99996</th>\n",
       "      <td>716</td>\n",
       "      <td>204</td>\n",
       "      <td>5</td>\n",
       "      <td>879795543</td>\n",
       "    </tr>\n",
       "    <tr>\n",
       "      <th>99997</th>\n",
       "      <td>276</td>\n",
       "      <td>1090</td>\n",
       "      <td>1</td>\n",
       "      <td>874795795</td>\n",
       "    </tr>\n",
       "    <tr>\n",
       "      <th>99998</th>\n",
       "      <td>13</td>\n",
       "      <td>225</td>\n",
       "      <td>2</td>\n",
       "      <td>882399156</td>\n",
       "    </tr>\n",
       "    <tr>\n",
       "      <th>99999</th>\n",
       "      <td>12</td>\n",
       "      <td>203</td>\n",
       "      <td>3</td>\n",
       "      <td>879959583</td>\n",
       "    </tr>\n",
       "  </tbody>\n",
       "</table>\n",
       "<p>100000 rows × 4 columns</p>\n",
       "</div>"
      ],
      "text/plain": [
       "       user_id:token  item_id:token  rating:float  timestamp:float\n",
       "0                196            242             3        881250949\n",
       "1                186            302             3        891717742\n",
       "2                 22            377             1        878887116\n",
       "3                244             51             2        880606923\n",
       "4                166            346             1        886397596\n",
       "...              ...            ...           ...              ...\n",
       "99995            880            476             3        880175444\n",
       "99996            716            204             5        879795543\n",
       "99997            276           1090             1        874795795\n",
       "99998             13            225             2        882399156\n",
       "99999             12            203             3        879959583\n",
       "\n",
       "[100000 rows x 4 columns]"
      ]
     },
     "execution_count": 9,
     "metadata": {},
     "output_type": "execute_result"
    }
   ],
   "source": [
    "full_dataset"
   ]
  },
  {
   "cell_type": "code",
   "execution_count": 10,
   "id": "94d06889-298b-496d-9ef8-d0ef49d9999e",
   "metadata": {},
   "outputs": [
    {
     "data": {
      "text/html": [
       "<div>\n",
       "<style scoped>\n",
       "    .dataframe tbody tr th:only-of-type {\n",
       "        vertical-align: middle;\n",
       "    }\n",
       "\n",
       "    .dataframe tbody tr th {\n",
       "        vertical-align: top;\n",
       "    }\n",
       "\n",
       "    .dataframe thead th {\n",
       "        text-align: right;\n",
       "    }\n",
       "</style>\n",
       "<table border=\"1\" class=\"dataframe\">\n",
       "  <thead>\n",
       "    <tr style=\"text-align: right;\">\n",
       "      <th></th>\n",
       "      <th>user_id:token</th>\n",
       "      <th>item_id:token</th>\n",
       "      <th>rating:float</th>\n",
       "      <th>timestamp:float</th>\n",
       "    </tr>\n",
       "  </thead>\n",
       "  <tbody>\n",
       "    <tr>\n",
       "      <th>99992</th>\n",
       "      <td>721</td>\n",
       "      <td>262</td>\n",
       "      <td>3</td>\n",
       "      <td>877137285</td>\n",
       "    </tr>\n",
       "    <tr>\n",
       "      <th>99994</th>\n",
       "      <td>378</td>\n",
       "      <td>78</td>\n",
       "      <td>3</td>\n",
       "      <td>880056976</td>\n",
       "    </tr>\n",
       "    <tr>\n",
       "      <th>99995</th>\n",
       "      <td>880</td>\n",
       "      <td>476</td>\n",
       "      <td>3</td>\n",
       "      <td>880175444</td>\n",
       "    </tr>\n",
       "    <tr>\n",
       "      <th>99996</th>\n",
       "      <td>716</td>\n",
       "      <td>204</td>\n",
       "      <td>5</td>\n",
       "      <td>879795543</td>\n",
       "    </tr>\n",
       "    <tr>\n",
       "      <th>99999</th>\n",
       "      <td>12</td>\n",
       "      <td>203</td>\n",
       "      <td>3</td>\n",
       "      <td>879959583</td>\n",
       "    </tr>\n",
       "  </tbody>\n",
       "</table>\n",
       "</div>"
      ],
      "text/plain": [
       "       user_id:token  item_id:token  rating:float  timestamp:float\n",
       "99992            721            262             3        877137285\n",
       "99994            378             78             3        880056976\n",
       "99995            880            476             3        880175444\n",
       "99996            716            204             5        879795543\n",
       "99999             12            203             3        879959583"
      ]
     },
     "execution_count": 10,
     "metadata": {},
     "output_type": "execute_result"
    }
   ],
   "source": [
    "full_dataset[full_dataset['rating:float'] > threshold].tail()"
   ]
  },
  {
   "cell_type": "code",
   "execution_count": 11,
   "id": "f1750437-e688-41ff-a5fe-6d905a37902c",
   "metadata": {},
   "outputs": [],
   "source": [
    "binarized = full_dataset[full_dataset['rating:float'] > threshold]\n",
    "binarized = binarized[['user_id:token', 'item_id:token']]\n",
    "binarized = binarized.astype({\n",
    "    'user_id:token': str,\n",
    "    'item_id:token': str\n",
    "})"
   ]
  },
  {
   "cell_type": "code",
   "execution_count": 12,
   "id": "8a963bcd-f8f4-4c50-b31c-9d6a0cd86f72",
   "metadata": {},
   "outputs": [
    {
     "data": {
      "text/html": [
       "<div>\n",
       "<style scoped>\n",
       "    .dataframe tbody tr th:only-of-type {\n",
       "        vertical-align: middle;\n",
       "    }\n",
       "\n",
       "    .dataframe tbody tr th {\n",
       "        vertical-align: top;\n",
       "    }\n",
       "\n",
       "    .dataframe thead th {\n",
       "        text-align: right;\n",
       "    }\n",
       "</style>\n",
       "<table border=\"1\" class=\"dataframe\">\n",
       "  <thead>\n",
       "    <tr style=\"text-align: right;\">\n",
       "      <th></th>\n",
       "      <th>user_id:token</th>\n",
       "      <th>item_id:token</th>\n",
       "    </tr>\n",
       "  </thead>\n",
       "  <tbody>\n",
       "    <tr>\n",
       "      <th>0</th>\n",
       "      <td>196</td>\n",
       "      <td>242</td>\n",
       "    </tr>\n",
       "    <tr>\n",
       "      <th>1</th>\n",
       "      <td>186</td>\n",
       "      <td>302</td>\n",
       "    </tr>\n",
       "    <tr>\n",
       "      <th>5</th>\n",
       "      <td>298</td>\n",
       "      <td>474</td>\n",
       "    </tr>\n",
       "    <tr>\n",
       "      <th>7</th>\n",
       "      <td>253</td>\n",
       "      <td>465</td>\n",
       "    </tr>\n",
       "    <tr>\n",
       "      <th>8</th>\n",
       "      <td>305</td>\n",
       "      <td>451</td>\n",
       "    </tr>\n",
       "  </tbody>\n",
       "</table>\n",
       "</div>"
      ],
      "text/plain": [
       "  user_id:token item_id:token\n",
       "0           196           242\n",
       "1           186           302\n",
       "5           298           474\n",
       "7           253           465\n",
       "8           305           451"
      ]
     },
     "execution_count": 12,
     "metadata": {},
     "output_type": "execute_result"
    }
   ],
   "source": [
    "binarized.head()"
   ]
  },
  {
   "cell_type": "code",
   "execution_count": 13,
   "id": "252f4c6a-bb47-4912-8020-41adbadc50b6",
   "metadata": {},
   "outputs": [
    {
     "data": {
      "text/plain": [
       "943"
      ]
     },
     "execution_count": 13,
     "metadata": {},
     "output_type": "execute_result"
    }
   ],
   "source": [
    "binarized['user_id:token'].nunique()"
   ]
  },
  {
   "cell_type": "code",
   "execution_count": 14,
   "id": "3512386d-cf57-40f7-a787-b9b420ef8ea3",
   "metadata": {},
   "outputs": [],
   "source": [
    "core_users = binarized.groupby('user_id:token').count()[binarized.groupby('user_id:token').count().values > 4].index.values"
   ]
  },
  {
   "cell_type": "code",
   "execution_count": 15,
   "id": "07e5d055-faf4-4a6c-bcf1-2539093b2364",
   "metadata": {},
   "outputs": [],
   "source": [
    "binarized = binarized[binarized['user_id:token'].isin(core_users)]"
   ]
  },
  {
   "cell_type": "code",
   "execution_count": 16,
   "id": "8dabfaf7-2048-46e9-8fdc-d7c43baaa22b",
   "metadata": {},
   "outputs": [
    {
     "name": "stdout",
     "output_type": "stream",
     "text": [
      "<class 'pandas.core.frame.DataFrame'>\n",
      "Int64Index: 82520 entries, 0 to 99999\n",
      "Data columns (total 2 columns):\n",
      " #   Column         Non-Null Count  Dtype \n",
      "---  ------         --------------  ----- \n",
      " 0   user_id:token  82520 non-null  object\n",
      " 1   item_id:token  82520 non-null  object\n",
      "dtypes: object(2)\n",
      "memory usage: 1.9+ MB\n"
     ]
    }
   ],
   "source": [
    "binarized.info()"
   ]
  },
  {
   "cell_type": "code",
   "execution_count": 17,
   "id": "a9b2cdf8-69af-409b-ae56-3fc36537b91c",
   "metadata": {},
   "outputs": [
    {
     "data": {
      "text/plain": [
       "943"
      ]
     },
     "execution_count": 17,
     "metadata": {},
     "output_type": "execute_result"
    }
   ],
   "source": [
    "binarized['user_id:token'].nunique()"
   ]
  },
  {
   "cell_type": "code",
   "execution_count": 18,
   "id": "db9a121c-6d3b-40e7-9483-7d702336d79b",
   "metadata": {},
   "outputs": [
    {
     "data": {
      "text/html": [
       "<div>\n",
       "<style scoped>\n",
       "    .dataframe tbody tr th:only-of-type {\n",
       "        vertical-align: middle;\n",
       "    }\n",
       "\n",
       "    .dataframe tbody tr th {\n",
       "        vertical-align: top;\n",
       "    }\n",
       "\n",
       "    .dataframe thead th {\n",
       "        text-align: right;\n",
       "    }\n",
       "</style>\n",
       "<table border=\"1\" class=\"dataframe\">\n",
       "  <thead>\n",
       "    <tr style=\"text-align: right;\">\n",
       "      <th></th>\n",
       "      <th>user_id:token</th>\n",
       "      <th>item_id:token</th>\n",
       "    </tr>\n",
       "  </thead>\n",
       "  <tbody>\n",
       "    <tr>\n",
       "      <th>0</th>\n",
       "      <td>196</td>\n",
       "      <td>242</td>\n",
       "    </tr>\n",
       "    <tr>\n",
       "      <th>1</th>\n",
       "      <td>186</td>\n",
       "      <td>302</td>\n",
       "    </tr>\n",
       "    <tr>\n",
       "      <th>5</th>\n",
       "      <td>298</td>\n",
       "      <td>474</td>\n",
       "    </tr>\n",
       "    <tr>\n",
       "      <th>7</th>\n",
       "      <td>253</td>\n",
       "      <td>465</td>\n",
       "    </tr>\n",
       "    <tr>\n",
       "      <th>8</th>\n",
       "      <td>305</td>\n",
       "      <td>451</td>\n",
       "    </tr>\n",
       "  </tbody>\n",
       "</table>\n",
       "</div>"
      ],
      "text/plain": [
       "  user_id:token item_id:token\n",
       "0           196           242\n",
       "1           186           302\n",
       "5           298           474\n",
       "7           253           465\n",
       "8           305           451"
      ]
     },
     "execution_count": 18,
     "metadata": {},
     "output_type": "execute_result"
    }
   ],
   "source": [
    "binarized.head()"
   ]
  },
  {
   "cell_type": "markdown",
   "id": "812acd98-f8a4-4339-8385-5c0d48add57b",
   "metadata": {},
   "source": [
    "## User class definition"
   ]
  },
  {
   "cell_type": "code",
   "execution_count": 19,
   "id": "287ba2b5-7cbe-448f-8172-4d7d11f9825d",
   "metadata": {},
   "outputs": [],
   "source": [
    "def create_folder_if_not_exist(path):\n",
    "    isExist = os.path.exists(path)\n",
    "    if not isExist:\n",
    "       # Create a new directory because it does not exist\n",
    "       os.makedirs(path)\n",
    "       print(f\"Directory {path} created!\")"
   ]
  },
  {
   "cell_type": "code",
   "execution_count": 20,
   "id": "166b5031-7fa7-4950-9e7f-ebe57ce73c55",
   "metadata": {},
   "outputs": [],
   "source": [
    "USER_ACTIVITY_PROP = [0.8, 0.2]\n",
    "harmful_list = [0.01, 0.05, 0.10]\n",
    "\n",
    "for harmful in harmful_list: \n",
    "    faithful = 1. - harmful\n",
    "    USER_CLASSES_PROP = [faithful, harmful]\n",
    "    \n",
    "\n",
    "    DS_STRING = f'{DATASET}_harm{str(int(100*harmful)).zfill(2)}'\n",
    "    ACTIVITY_FOLDER = BASE_FOLDER + f'user_activity/{DS_STRING}/'\n",
    "    ACTIVITY_FILE = ACTIVITY_FOLDER + f'{DS_STRING}.uact'\n",
    "    \n",
    "    INTERACTION_FOLDER = BASE_FOLDER + f'item_interaction/{DS_STRING}/'\n",
    "    INTERACTION_FILE = ACTIVITY_FOLDER + f'{DS_STRING}.iint'\n",
    "    \n",
    "    CLASSES_FOLDER = BASE_FOLDER + f'user_classes/{DS_STRING}/'\n",
    "    CLASSES_FILE = CLASSES_FOLDER + f'{DS_STRING}.uclass'\n",
    "\n",
    "    FILTERED_DATASETS_FOLDER = BASE_FOLDER + f'datasets/filtered_datasets/{DS_STRING}/'\n",
    "    FILTERED_INTERACTION_FILE = FILTERED_DATASETS_FOLDER + f'{DS_STRING}.inter'\n",
    "    \n",
    "    create_folder_if_not_exist(FILTERED_DATASETS_FOLDER)\n",
    "    create_folder_if_not_exist(CLASSES_FOLDER)\n",
    "    create_folder_if_not_exist(INTERACTION_FOLDER)\n",
    "    create_folder_if_not_exist(ACTIVITY_FOLDER)\n",
    "    \n",
    "    binarized.columns = ['user', 'item']\n",
    "    # Transpose the dataset to use the popularity segmentation on users\n",
    "    # binarized.columns = ['item', 'user']\n",
    "    #print(np.sum(USER_CLASSES_PROP * 10) / 10)\n",
    "    USER_CLASSES = ActivitySegmentation().segment(binarized, proportions=USER_CLASSES_PROP)\n",
    "    USER_ACTIVITY = ActivitySegmentation().segment(binarized, proportions=USER_ACTIVITY_PROP)\n",
    "\n",
    "    # Transpose the dataset to use the popularity segmentation on users\n",
    "    # binarized.columns = ['user', 'item']\n",
    "    binarized_filtered = binarized.merge(USER_CLASSES, how='inner', left_on='user', right_on='user')\n",
    "    \n",
    "    binarized.columns = ['user_id:token', 'item_id:token']\n",
    "    binarized_filtered.columns = ['user_id:token', 'item_id:token', 'class:token']\n",
    "    USER_CLASSES.columns = ['user_id:token', 'class:token']\n",
    "    USER_ACTIVITY.columns = ['user_id:token', 'activity:token']\n",
    "    \n",
    "    # print(f\"{harmful}: {USER_CLASSES['class:token'].value_counts()}\")\n",
    "    USER_CLASSES.to_csv(CLASSES_FILE, sep='\\t', index=None)\n",
    "    USER_ACTIVITY.to_csv(ACTIVITY_FILE, sep='\\t', index=None)\n",
    "    binarized['user_id:token'] = binarized['user_id:token'].astype(str)\n",
    "    USER_CLASSES['user_id:token'] = USER_CLASSES['user_id:token'].astype(str)\n",
    "    \n",
    "    binarized_filtered = binarized_filtered[binarized_filtered['class:token'].isin(['1'])]\n",
    "    binarized_filtered = binarized_filtered.drop(columns=['class:token'])\n",
    "    \n",
    "    # binarized_filtered['user_id:token'] = map_series_to_int(binarized_filtered['user_id:token'])\n",
    "    binarized_filtered.to_csv(FILTERED_INTERACTION_FILE, sep='\\t', index=None)"
   ]
  },
  {
   "cell_type": "markdown",
   "id": "cfe6233e-4d32-4df3-a7ad-c77f555f7068",
   "metadata": {},
   "source": [
    "# END OF DATA PREPARATION"
   ]
  },
  {
   "cell_type": "code",
   "execution_count": null,
   "id": "7dce4055-4dc3-4eee-b8f4-73192304affa",
   "metadata": {},
   "outputs": [],
   "source": []
  }
 ],
 "metadata": {
  "kernelspec": {
   "display_name": "recbole",
   "language": "python",
   "name": "recbole"
  },
  "language_info": {
   "codemirror_mode": {
    "name": "ipython",
    "version": 3
   },
   "file_extension": ".py",
   "mimetype": "text/x-python",
   "name": "python",
   "nbconvert_exporter": "python",
   "pygments_lexer": "ipython3",
   "version": "3.8.13"
  }
 },
 "nbformat": 4,
 "nbformat_minor": 5
}

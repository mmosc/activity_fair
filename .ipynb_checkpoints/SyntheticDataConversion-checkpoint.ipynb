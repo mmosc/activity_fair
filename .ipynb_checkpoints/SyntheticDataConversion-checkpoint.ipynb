{
 "cells": [
  {
   "cell_type": "code",
   "execution_count": 1,
   "id": "4538ac50-391c-4adf-a857-02e3bf7c7fae",
   "metadata": {},
   "outputs": [],
   "source": [
    "import pandas as pd\n",
    "from paths.paths import *\n",
    "import os\n",
    "from utils.utils import *"
   ]
  },
  {
   "cell_type": "code",
   "execution_count": 2,
   "id": "21758192-045e-479f-b3b5-d30de4f769c2",
   "metadata": {},
   "outputs": [],
   "source": [
    "SYNTH_FOLDER =f'{FULL_DATASETS_FOLDER}/synthetic/'"
   ]
  },
  {
   "cell_type": "code",
   "execution_count": 3,
   "id": "d3c53fa7-95cc-4b81-9234-f2695a71f087",
   "metadata": {},
   "outputs": [],
   "source": [
    "fold_iter = os.listdir(SYNTH_FOLDER)\n",
    "SYNTH_FILE = fold_iter[0]"
   ]
  },
  {
   "cell_type": "code",
   "execution_count": 4,
   "id": "60cde923-0baa-415b-a286-ae79cf9dde07",
   "metadata": {},
   "outputs": [
    {
     "name": "stdout",
     "output_type": "stream",
     "text": [
      "Directory /home/marta/jku/activity_fair/datasets/filtered_datasets//synthetic/synth_name/ created!\n"
     ]
    }
   ],
   "source": [
    "synth_df = pd.read_csv(f'{SYNTH_FOLDER}/{SYNTH_FILE}', usecols=[1, 2]) \n",
    "synth_df.columns = ['user_id:token', 'item_id:token']\n",
    "core_users = synth_df.groupby('user_id:token').count()[synth_df.groupby('user_id:token').count().values > 4].index.values\n",
    "\n",
    "synth_df = synth_df[synth_df['user_id:token'].isin(core_users)]\n",
    "\n",
    "tokens = []\n",
    "for token in fold_iter[0][:-4].split('-'):\n",
    "    if token.isdigit():\n",
    "        tokens += [token]\n",
    "    elif token.replace('.', '' , 1).isdigit():\n",
    "        tokens += ['%.3f' % float(token)]\n",
    "    else:\n",
    "        tokens += [token]\n",
    "        \n",
    "SYNTH_NAME = '-'.join(tokens)\n",
    "DATA_FOLDER = f'{FILTERED_DATASETS_FOLDER}/{SYNTH_NAME}/'\n",
    "create_folder_if_not_exist(DATA_FOLDER)\n",
    "\n",
    "synth_df.to_csv(f\"{DATA_FOLDER}/{SYNTH_NAME}.tsv\", sep='\\t', index=None)"
   ]
  },
  {
   "cell_type": "code",
   "execution_count": null,
   "id": "935520eb-30ec-41ba-aebd-7ab136876b55",
   "metadata": {},
   "outputs": [],
   "source": []
  }
 ],
 "metadata": {
  "kernelspec": {
   "display_name": "recbole",
   "language": "python",
   "name": "recbole"
  },
  "language_info": {
   "codemirror_mode": {
    "name": "ipython",
    "version": 3
   },
   "file_extension": ".py",
   "mimetype": "text/x-python",
   "name": "python",
   "nbconvert_exporter": "python",
   "pygments_lexer": "ipython3",
   "version": "3.8.13"
  }
 },
 "nbformat": 4,
 "nbformat_minor": 5
}
